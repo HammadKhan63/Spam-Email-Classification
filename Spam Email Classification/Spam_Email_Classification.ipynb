{
  "nbformat": 4,
  "nbformat_minor": 0,
  "metadata": {
    "colab": {
      "provenance": []
    },
    "kernelspec": {
      "name": "python3",
      "display_name": "Python 3"
    },
    "language_info": {
      "name": "python"
    }
  },
  "cells": [
    {
      "cell_type": "markdown",
      "source": [
        "Import Required Libraries"
      ],
      "metadata": {
        "id": "gY90EDCtoDYd"
      }
    },
    {
      "cell_type": "code",
      "execution_count": 9,
      "metadata": {
        "id": "OJwGEH8RmLHp"
      },
      "outputs": [],
      "source": [
        "import pandas as pd\n",
        "import matplotlib.pyplot as plt\n",
        "import seaborn as sns\n",
        "from sklearn.model_selection import train_test_split, cross_val_score\n",
        "from sklearn.linear_model import LogisticRegression\n",
        "from sklearn.tree import DecisionTreeClassifier\n",
        "from sklearn.svm import SVC\n",
        "from sklearn.ensemble import RandomForestClassifier\n",
        "from sklearn.metrics import accuracy_score, precision_score, recall_score, f1_score"
      ]
    },
    {
      "cell_type": "markdown",
      "source": [
        "Load the Dataset"
      ],
      "metadata": {
        "id": "7tZ1SytpoQ6V"
      }
    },
    {
      "cell_type": "code",
      "source": [
        "df = pd.read_csv(\"/content/emails.csv.zip\")\n",
        "results_df = pd.DataFrame(results).T"
      ],
      "metadata": {
        "id": "u0Z9og0qoFZF"
      },
      "execution_count": 10,
      "outputs": []
    },
    {
      "cell_type": "markdown",
      "source": [
        "Data Preprocessing"
      ],
      "metadata": {
        "id": "rRVS6_H8oiFl"
      }
    },
    {
      "cell_type": "code",
      "source": [
        "df.drop(columns=['Email No.'], inplace=True)\n",
        "X = df.drop(columns=['Prediction'])\n",
        "y = df['Prediction']  # Labels (0 = not spam, 1 = spam)"
      ],
      "metadata": {
        "id": "caSc-dVMoc2M"
      },
      "execution_count": 3,
      "outputs": []
    },
    {
      "cell_type": "markdown",
      "source": [
        "Split Dataset into Training and Testing Sets"
      ],
      "metadata": {
        "id": "12sLKDE-oq-V"
      }
    },
    {
      "cell_type": "code",
      "source": [
        "X_train, X_test, y_train, y_test = train_test_split(\n",
        "    X, y, test_size=0.2, random_state=42, stratify=y\n",
        ")"
      ],
      "metadata": {
        "id": "N7mcGoW3ol0x"
      },
      "execution_count": 4,
      "outputs": []
    },
    {
      "cell_type": "code",
      "source": [
        "models = {\n",
        "    \"Logistic Regression\": LogisticRegression(max_iter=1000),\n",
        "    \"Decision Tree\": DecisionTreeClassifier(),\n",
        "    \"SVM\": SVC(),\n",
        "    \"Random Forest\": RandomForestClassifier()\n",
        "}"
      ],
      "metadata": {
        "id": "zGWeG5AOosIQ"
      },
      "execution_count": 6,
      "outputs": []
    },
    {
      "cell_type": "markdown",
      "source": [
        "Train and Evaluate Each Model"
      ],
      "metadata": {
        "id": "asMhOkWoo1Pl"
      }
    },
    {
      "cell_type": "code",
      "source": [
        "results = {}\n",
        "for name, model in models.items():\n",
        "    model.fit(X_train, y_train)\n",
        "    y_pred = model.predict(X_test)\n",
        "\n",
        "    results[name] = {\n",
        "        \"Accuracy\": accuracy_score(y_test, y_pred),\n",
        "        \"Precision\": precision_score(y_test, y_pred),\n",
        "        \"Recall\": recall_score(y_test, y_pred),\n",
        "        \"F1 Score\": f1_score(y_test, y_pred),\n",
        "        \"Cross-Val Accuracy\": cross_val_score(model, X, y, cv=5).mean()\n",
        "    }"
      ],
      "metadata": {
        "id": "UOSQcmlrouwx"
      },
      "execution_count": 7,
      "outputs": []
    },
    {
      "cell_type": "code",
      "source": [
        "results_df = pd.DataFrame(results).T\n",
        "print(\"\\n📈 Model Performance Summary:\\n\")\n",
        "print(results_df)"
      ],
      "metadata": {
        "colab": {
          "base_uri": "https://localhost:8080/"
        },
        "id": "nJXYZ4XAo2at",
        "outputId": "7d0d9bda-5dbf-4d76-a102-046239262116"
      },
      "execution_count": 8,
      "outputs": [
        {
          "output_type": "stream",
          "name": "stdout",
          "text": [
            "\n",
            "📈 Model Performance Summary:\n",
            "\n",
            "                     Accuracy  Precision    Recall  F1 Score  \\\n",
            "Logistic Regression  0.982609   0.957792  0.983333  0.970395   \n",
            "Decision Tree        0.925604   0.875421  0.866667  0.871022   \n",
            "SVM                  0.812560   0.884058  0.406667  0.557078   \n",
            "Random Forest        0.962319   0.930693  0.940000  0.935323   \n",
            "\n",
            "                     Cross-Val Accuracy  \n",
            "Logistic Regression            0.962101  \n",
            "Decision Tree                  0.915117  \n",
            "SVM                            0.795620  \n",
            "Random Forest                  0.956494  \n"
          ]
        }
      ]
    },
    {
      "cell_type": "markdown",
      "source": [
        "Plot Accuracy, Precision, Recall, F1 Score"
      ],
      "metadata": {
        "id": "awKB9cZTqprD"
      }
    },
    {
      "cell_type": "code",
      "source": [
        "metrics_to_plot = [\"Accuracy\", \"Precision\", \"Recall\", \"F1 Score\"]\n",
        "results_df[metrics_to_plot].plot(kind=\"bar\", figsize=(10, 6), colormap=\"Set2\")\n",
        "plt.title(\"Model Performance Comparison\")\n",
        "plt.ylabel(\"Score\")\n",
        "plt.ylim(0, 1)\n",
        "plt.xticks(rotation=45)\n",
        "plt.legend(loc=\"lower right\")\n",
        "plt.tight_layout()\n",
        "plt.show()"
      ],
      "metadata": {
        "colab": {
          "base_uri": "https://localhost:8080/",
          "height": 528
        },
        "id": "2_e7oBWiqWpH",
        "outputId": "54161e4e-1e78-40a7-d52c-ef42dcc8f209"
      },
      "execution_count": 11,
      "outputs": [
        {
          "output_type": "display_data",
          "data": {
            "text/plain": [
              "<Figure size 1000x600 with 1 Axes>"
            ],
            "image/png": "[encoded data removed]"
          },
          "metadata": {}
        }
      ]
    },
    {
      "cell_type": "code",
      "source": [],
      "metadata": {
        "id": "ZcqnJJ_vqq5r"
      },
      "execution_count": null,
      "outputs": []
    }
  ]
}